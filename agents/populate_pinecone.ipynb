{
 "cells": [
  {
   "cell_type": "code",
   "execution_count": 1,
   "metadata": {},
   "outputs": [
    {
     "name": "stdout",
     "output_type": "stream",
     "text": [
      "Solution upserted!\n"
     ]
    }
   ],
   "source": [
    "# /home/vincent/ixome/notebooks/populate_pinecone.ipynb\n",
    "import sys\n",
    "sys.path.append('/home/vincent/ixome')\n",
    "from pinecone import Pinecone\n",
    "from core.config import PINECONE_API_KEY\n",
    "\n",
    "pc = Pinecone(api_key=PINECONE_API_KEY)\n",
    "index = pc.Index(\"troubleshooter-index\")\n",
    "\n",
    "# Sample solution (use real embeddings in production)\n",
    "vector = [0.1] * 1536  # Placeholder\n",
    "metadata = {\"solution\": \"Please check if the sound system is turned on and cables are connected.\"}\n",
    "index.upsert(vectors=[(\"no_sound_solution\", vector, metadata)])\n",
    "\n",
    "print(\"Solution upserted!\")"
   ]
  }
 ],
 "metadata": {
  "kernelspec": {
   "display_name": "ixome",
   "language": "python",
   "name": "python3"
  },
  "language_info": {
   "codemirror_mode": {
    "name": "ipython",
    "version": 3
   },
   "file_extension": ".py",
   "mimetype": "text/x-python",
   "name": "python",
   "nbconvert_exporter": "python",
   "pygments_lexer": "ipython3",
   "version": "3.11.2"
  }
 },
 "nbformat": 4,
 "nbformat_minor": 2
}
